{
 "cells": [
  {
   "cell_type": "code",
   "execution_count": 2,
   "metadata": {},
   "outputs": [],
   "source": [
    "import scipy.io\n",
    "import numpy as np\n",
    "\n",
    "from sklearn.model_selection import train_test_split\n",
    "\n",
    "import torch \n",
    "import torch.nn as nn\n",
    "import torch.nn.functional as F\n",
    "\n",
    "from torch.utils.data import Dataset, DataLoader\n",
    "import torch.optim as optim"
   ]
  },
  {
   "cell_type": "code",
   "execution_count": 3,
   "metadata": {},
   "outputs": [
    {
     "name": "stdout",
     "output_type": "stream",
     "text": [
      "X shape: (588, 24, 18)\n",
      "y shape: (588,)\n"
     ]
    }
   ],
   "source": [
    "# Load the .mat file\n",
    "mat_file = scipy.io.loadmat('/Users/chrisdollo/Documents/coding_projects/EMG/Matlab/gestureTable_clean.mat')\n",
    "cell_array = mat_file['finalCellArray']\n",
    "\n",
    "X = []\n",
    "Y = []\n",
    "\n",
    "for gesture_type in range(cell_array.shape[1]):\n",
    "    for row_idx in range(cell_array.shape[0]):\n",
    "        cell = cell_array[row_idx, gesture_type]\n",
    "\n",
    "        # Convert to numpy array explicitly and ensure shape (24, 18)\n",
    "        cell = np.array(cell)\n",
    "        if cell.shape != (24, 18):\n",
    "            raise ValueError(f\"Unexpected shape: {cell.shape} at row {row_idx}, gesture {gesture_type}\")\n",
    "\n",
    "        # Add a new axis for channel (CNN expects 4D input: samples, height, width, channels)\n",
    "        X.append(cell.astype(np.float32))\n",
    "\n",
    "        # we add 1 to the label so that they range from 1-7 insteat of 0-6\n",
    "        Y.append(gesture_type + 1)\n",
    "\n",
    "# Convert list to NumPy arrays\n",
    "# X = np.array(X, dtype=np.float32)  # shape: (samples, 24, 18)\n",
    "# X = X[..., np.newaxis]             # shape: (samples, 24, 18, 1)\n",
    "# Y = np.array(Y, dtype=np.int32)\n",
    "\n",
    "X = np.array(X)\n",
    "Y = np.array(Y)\n",
    "\n",
    "# # Train/test split\n",
    "# X_train, X_test, y_train, y_test = train_test_split(\n",
    "#     X, Y, test_size=0.2, stratify=Y, random_state=42\n",
    "# )\n",
    "\n",
    "print(\"X shape:\", X.shape)\n",
    "print(\"y shape:\", Y.shape)"
   ]
  },
  {
   "cell_type": "markdown",
   "metadata": {},
   "source": [
    "Let's build the model.\n",
    "\n",
    "For this task we will be using a Convolutional Neural Network"
   ]
  },
  {
   "cell_type": "code",
   "execution_count": 4,
   "metadata": {},
   "outputs": [],
   "source": [
    "class EEGNet(nn.Module):\n",
    "    def __init__(self, num_classes=4, num_channels=22, input_samples=1125, dropout_rate=0.5, kernel_length=64, F1=8, D=2, F2=16):\n",
    "        super(EEGNet, self).__init__()\n",
    "        \n",
    "        self.num_classes = 4\n",
    "        \n",
    "        self.firstConv = nn.Sequential(\n",
    "            nn.Conv2d(1, F1, kernel_size=(1,kernel_length), padding=(0, kernel_length//2), bias=False), \n",
    "            nn.BatchNorm2d(F1)\n",
    "        )\n",
    "        \n",
    "        self.depthwiseConv = nn.Sequential(\n",
    "            nn.Conv2d(F1, F1*D, kernel_size=(num_channels, 1), groups=F1, bias=False),\n",
    "            nn.BatchNorm2d(F1*D),\n",
    "            nn.ELU(),\n",
    "            nn.AvgPool2d(kernel_size=(1,4)),\n",
    "            nn.Dropout(p=dropout_rate)\n",
    "        )\n",
    "        \n",
    "        self.separableConv = nn.Sequential(\n",
    "            nn.Conv2d(F1*D, F2, kernel_size=(1,16), padding=(0,8), bias=False),\n",
    "            nn.BatchNorm2d(F2),\n",
    "            nn.ELU(),\n",
    "            nn.AvgPool2d(kernel_size=(1,8)),\n",
    "            nn.Dropout(p=dropout_rate)\n",
    "        )\n",
    "        \n",
    "        with torch.no_grad():\n",
    "            dummy = torch.zeros(1, 1, num_channels, input_samples)\n",
    "            x = self.firstConv(dummy)\n",
    "            x = self.depthwiseConv(x)\n",
    "            x = self.separableConv(x)\n",
    "            flattened = x.shape[1] * x.shape[2] * x.shape[3]\n",
    "\n",
    "        self.classify = nn.Sequential(\n",
    "            nn.Flatten(),\n",
    "            nn.Linear(flattened, num_classes)\n",
    "        )\n",
    "        \n",
    "    def forward(self, x):\n",
    "        x = self.firstConv(x)\n",
    "        x = self.depthwiseConv(x)\n",
    "        x = self.separableConv(x)\n",
    "        x = self.classify(x)\n",
    "        return x"
   ]
  },
  {
   "cell_type": "markdown",
   "metadata": {},
   "source": [
    "Dimension \n",
    " X_train: (230, 1, 22, 1000) \t y_train: (230,) \n",
    " X_test: (58, 1, 22, 1000) \t y_test: (58,)\n",
    "\n",
    " The model takes in the input dimensions as (trials, 1, channels, samples). Please keep it in these dimenions to make it work"
   ]
  },
  {
   "cell_type": "code",
   "execution_count": 5,
   "metadata": {},
   "outputs": [],
   "source": [
    "# DataLoader\n",
    "\n",
    "class BCIDataset(Dataset):\n",
    "    def __init__(self, X, y):\n",
    "        self.X = torch.tensor(X, dtype=torch.float32)\n",
    "        self.y = torch.tensor(y-1, dtype=torch.long)\n",
    "        \n",
    "    def __len__(self):\n",
    "        return len(self.X)\n",
    "    \n",
    "    def __getitem__(self, idx):\n",
    "        return self.X[idx], self.y[idx]"
   ]
  },
  {
   "cell_type": "code",
   "execution_count": 6,
   "metadata": {},
   "outputs": [],
   "source": [
    "# Train and evaluate\n",
    "def train(model, train_loader, criterion, optimizer, device):\n",
    "    model.train()\n",
    "    total_loss = 0\n",
    "    \n",
    "    for X,y in train_loader:\n",
    "        X, y = X.to(device), y.to(device)\n",
    "        optimizer.zero_grad()\n",
    "        out = model(X)\n",
    "        loss = criterion(out, y)\n",
    "        loss.backward()\n",
    "        optimizer.step()\n",
    "        total_loss += loss.item()\n",
    "    return total_loss / len(train_loader)\n",
    "\n",
    "def evaluate(model, test_loader, device):\n",
    "    model.eval()\n",
    "    correct, total = 0, 0\n",
    "    with torch.no_grad():\n",
    "        for X, y in test_loader:\n",
    "            X,y = X.to(device), y.to(device)\n",
    "            out = model(X)\n",
    "            pred = out.argmax(dim=1)\n",
    "            correct += (pred == y).sum().item()\n",
    "            total += y.size(0)\n",
    "            \n",
    "    return correct / total"
   ]
  },
  {
   "cell_type": "code",
   "execution_count": 7,
   "metadata": {},
   "outputs": [
    {
     "name": "stdout",
     "output_type": "stream",
     "text": [
      "total samples: (588, 1, 24, 18)\n",
      "Training samples: 470\n",
      "Testing samples: 118\n",
      "X_train shape: (470, 1, 24, 18)\n",
      "X_val shape: (118, 1, 24, 18)\n"
     ]
    }
   ],
   "source": [
    "X = X[:, np.newaxis, :, :]      # we reshape the seize of ther input to fit the model \n",
    "Y = Y - 1                       # we substract 1 from the labels \n",
    "\n",
    "X_train, X_val, y_train, y_val = train_test_split(\n",
    "    X, Y, test_size=0.2, stratify=Y, random_state=42\n",
    ")\n",
    "\n",
    "print(\"total samples:\", X.shape)\n",
    "print(\"Training samples:\", X_train.shape[0])\n",
    "print(\"Testing samples:\", X_val.shape[0])\n",
    "print(\"X_train shape:\", X_train.shape)\n",
    "print(\"X_val shape:\", X_val.shape)"
   ]
  },
  {
   "cell_type": "code",
   "execution_count": 8,
   "metadata": {},
   "outputs": [
    {
     "name": "stdout",
     "output_type": "stream",
     "text": [
      "red\n"
     ]
    }
   ],
   "source": [
    "print(\"red\")"
   ]
  },
  {
   "cell_type": "code",
   "execution_count": null,
   "metadata": {},
   "outputs": [],
   "source": [
    "train_ds = BCIDataset(X_train, y_train)\n",
    "val_ds = BCIDataset(X_val, y_val)\n",
    "\n",
    "train_loader = DataLoader(train_ds, batch_size=16, shuffle=True)\n",
    "val_loader = DataLoader(val_ds, batch_size=16, shuffle=False)"
   ]
  },
  {
   "cell_type": "code",
   "execution_count": 51,
   "metadata": {},
   "outputs": [
    {
     "name": "stdout",
     "output_type": "stream",
     "text": [
      "Epoch 1/50\n",
      "\u001b[1m27/27\u001b[0m \u001b[32m━━━━━━━━━━━━━━━━━━━━\u001b[0m\u001b[37m\u001b[0m \u001b[1m0s\u001b[0m 7ms/step - accuracy: 0.1275 - loss: 1.9422 - val_accuracy: 0.1702 - val_loss: 1.9558\n",
      "Epoch 2/50\n",
      "\u001b[1m27/27\u001b[0m \u001b[32m━━━━━━━━━━━━━━━━━━━━\u001b[0m\u001b[37m\u001b[0m \u001b[1m0s\u001b[0m 6ms/step - accuracy: 0.1657 - loss: 1.9453 - val_accuracy: 0.1489 - val_loss: 1.9551\n",
      "Epoch 3/50\n",
      "\u001b[1m27/27\u001b[0m \u001b[32m━━━━━━━━━━━━━━━━━━━━\u001b[0m\u001b[37m\u001b[0m \u001b[1m0s\u001b[0m 6ms/step - accuracy: 0.1783 - loss: 1.9466 - val_accuracy: 0.0851 - val_loss: 1.9561\n",
      "Epoch 4/50\n",
      "\u001b[1m27/27\u001b[0m \u001b[32m━━━━━━━━━━━━━━━━━━━━\u001b[0m\u001b[37m\u001b[0m \u001b[1m0s\u001b[0m 6ms/step - accuracy: 0.1290 - loss: 1.9469 - val_accuracy: 0.0851 - val_loss: 1.9563\n",
      "Epoch 5/50\n",
      "\u001b[1m27/27\u001b[0m \u001b[32m━━━━━━━━━━━━━━━━━━━━\u001b[0m\u001b[37m\u001b[0m \u001b[1m0s\u001b[0m 6ms/step - accuracy: 0.1756 - loss: 1.9404 - val_accuracy: 0.0851 - val_loss: 1.9548\n",
      "Epoch 6/50\n",
      "\u001b[1m27/27\u001b[0m \u001b[32m━━━━━━━━━━━━━━━━━━━━\u001b[0m\u001b[37m\u001b[0m \u001b[1m0s\u001b[0m 5ms/step - accuracy: 0.1500 - loss: 1.9458 - val_accuracy: 0.0851 - val_loss: 1.9523\n",
      "Epoch 7/50\n",
      "\u001b[1m27/27\u001b[0m \u001b[32m━━━━━━━━━━━━━━━━━━━━\u001b[0m\u001b[37m\u001b[0m \u001b[1m0s\u001b[0m 5ms/step - accuracy: 0.1543 - loss: 1.9402 - val_accuracy: 0.0851 - val_loss: 1.9593\n",
      "Epoch 8/50\n",
      "\u001b[1m27/27\u001b[0m \u001b[32m━━━━━━━━━━━━━━━━━━━━\u001b[0m\u001b[37m\u001b[0m \u001b[1m0s\u001b[0m 5ms/step - accuracy: 0.1303 - loss: 1.9481 - val_accuracy: 0.1064 - val_loss: 1.9527\n",
      "Epoch 9/50\n",
      "\u001b[1m27/27\u001b[0m \u001b[32m━━━━━━━━━━━━━━━━━━━━\u001b[0m\u001b[37m\u001b[0m \u001b[1m0s\u001b[0m 5ms/step - accuracy: 0.1465 - loss: 1.9477 - val_accuracy: 0.1064 - val_loss: 1.9477\n",
      "Epoch 10/50\n",
      "\u001b[1m27/27\u001b[0m \u001b[32m━━━━━━━━━━━━━━━━━━━━\u001b[0m\u001b[37m\u001b[0m \u001b[1m0s\u001b[0m 5ms/step - accuracy: 0.1379 - loss: 1.9835 - val_accuracy: 0.0851 - val_loss: 1.9542\n",
      "Epoch 11/50\n",
      "\u001b[1m27/27\u001b[0m \u001b[32m━━━━━━━━━━━━━━━━━━━━\u001b[0m\u001b[37m\u001b[0m \u001b[1m0s\u001b[0m 5ms/step - accuracy: 0.1371 - loss: 1.9470 - val_accuracy: 0.0851 - val_loss: 1.9595\n",
      "Epoch 12/50\n",
      "\u001b[1m27/27\u001b[0m \u001b[32m━━━━━━━━━━━━━━━━━━━━\u001b[0m\u001b[37m\u001b[0m \u001b[1m0s\u001b[0m 5ms/step - accuracy: 0.1742 - loss: 1.9492 - val_accuracy: 0.0851 - val_loss: 1.9556\n",
      "Epoch 13/50\n",
      "\u001b[1m27/27\u001b[0m \u001b[32m━━━━━━━━━━━━━━━━━━━━\u001b[0m\u001b[37m\u001b[0m \u001b[1m0s\u001b[0m 5ms/step - accuracy: 0.1641 - loss: 1.9375 - val_accuracy: 0.0851 - val_loss: 1.9578\n",
      "Epoch 14/50\n",
      "\u001b[1m27/27\u001b[0m \u001b[32m━━━━━━━━━━━━━━━━━━━━\u001b[0m\u001b[37m\u001b[0m \u001b[1m0s\u001b[0m 5ms/step - accuracy: 0.1579 - loss: 1.9482 - val_accuracy: 0.0851 - val_loss: 1.9554\n",
      "Epoch 15/50\n",
      "\u001b[1m27/27\u001b[0m \u001b[32m━━━━━━━━━━━━━━━━━━━━\u001b[0m\u001b[37m\u001b[0m \u001b[1m0s\u001b[0m 5ms/step - accuracy: 0.1890 - loss: 1.9421 - val_accuracy: 0.0851 - val_loss: 1.9557\n",
      "Epoch 16/50\n",
      "\u001b[1m27/27\u001b[0m \u001b[32m━━━━━━━━━━━━━━━━━━━━\u001b[0m\u001b[37m\u001b[0m \u001b[1m0s\u001b[0m 5ms/step - accuracy: 0.1522 - loss: 1.9404 - val_accuracy: 0.0851 - val_loss: 1.9598\n",
      "Epoch 17/50\n",
      "\u001b[1m27/27\u001b[0m \u001b[32m━━━━━━━━━━━━━━━━━━━━\u001b[0m\u001b[37m\u001b[0m \u001b[1m0s\u001b[0m 5ms/step - accuracy: 0.1914 - loss: 1.9437 - val_accuracy: 0.1277 - val_loss: 1.9646\n",
      "Epoch 18/50\n",
      "\u001b[1m27/27\u001b[0m \u001b[32m━━━━━━━━━━━━━━━━━━━━\u001b[0m\u001b[37m\u001b[0m \u001b[1m0s\u001b[0m 5ms/step - accuracy: 0.1400 - loss: 1.9450 - val_accuracy: 0.1489 - val_loss: 1.9711\n",
      "Epoch 19/50\n",
      "\u001b[1m27/27\u001b[0m \u001b[32m━━━━━━━━━━━━━━━━━━━━\u001b[0m\u001b[37m\u001b[0m \u001b[1m0s\u001b[0m 5ms/step - accuracy: 0.1671 - loss: 1.9465 - val_accuracy: 0.1277 - val_loss: 1.9636\n",
      "Epoch 20/50\n",
      "\u001b[1m27/27\u001b[0m \u001b[32m━━━━━━━━━━━━━━━━━━━━\u001b[0m\u001b[37m\u001b[0m \u001b[1m0s\u001b[0m 5ms/step - accuracy: 0.1487 - loss: 1.9428 - val_accuracy: 0.0851 - val_loss: 1.9602\n",
      "Epoch 21/50\n",
      "\u001b[1m27/27\u001b[0m \u001b[32m━━━━━━━━━━━━━━━━━━━━\u001b[0m\u001b[37m\u001b[0m \u001b[1m0s\u001b[0m 5ms/step - accuracy: 0.1677 - loss: 1.9426 - val_accuracy: 0.0851 - val_loss: 1.9596\n",
      "Epoch 22/50\n",
      "\u001b[1m27/27\u001b[0m \u001b[32m━━━━━━━━━━━━━━━━━━━━\u001b[0m\u001b[37m\u001b[0m \u001b[1m0s\u001b[0m 5ms/step - accuracy: 0.1389 - loss: 1.9431 - val_accuracy: 0.0851 - val_loss: 1.9614\n",
      "Epoch 23/50\n",
      "\u001b[1m27/27\u001b[0m \u001b[32m━━━━━━━━━━━━━━━━━━━━\u001b[0m\u001b[37m\u001b[0m \u001b[1m0s\u001b[0m 5ms/step - accuracy: 0.1504 - loss: 1.9498 - val_accuracy: 0.0851 - val_loss: 1.9547\n",
      "Epoch 24/50\n",
      "\u001b[1m27/27\u001b[0m \u001b[32m━━━━━━━━━━━━━━━━━━━━\u001b[0m\u001b[37m\u001b[0m \u001b[1m0s\u001b[0m 5ms/step - accuracy: 0.1498 - loss: 1.9475 - val_accuracy: 0.0851 - val_loss: 1.9544\n",
      "Epoch 25/50\n",
      "\u001b[1m27/27\u001b[0m \u001b[32m━━━━━━━━━━━━━━━━━━━━\u001b[0m\u001b[37m\u001b[0m \u001b[1m0s\u001b[0m 5ms/step - accuracy: 0.1929 - loss: 1.9425 - val_accuracy: 0.0851 - val_loss: 1.9593\n",
      "Epoch 26/50\n",
      "\u001b[1m27/27\u001b[0m \u001b[32m━━━━━━━━━━━━━━━━━━━━\u001b[0m\u001b[37m\u001b[0m \u001b[1m0s\u001b[0m 5ms/step - accuracy: 0.1433 - loss: 1.9447 - val_accuracy: 0.0851 - val_loss: 1.9604\n",
      "Epoch 27/50\n",
      "\u001b[1m27/27\u001b[0m \u001b[32m━━━━━━━━━━━━━━━━━━━━\u001b[0m\u001b[37m\u001b[0m \u001b[1m0s\u001b[0m 5ms/step - accuracy: 0.1551 - loss: 1.9432 - val_accuracy: 0.0851 - val_loss: 1.9597\n",
      "Epoch 28/50\n",
      "\u001b[1m27/27\u001b[0m \u001b[32m━━━━━━━━━━━━━━━━━━━━\u001b[0m\u001b[37m\u001b[0m \u001b[1m0s\u001b[0m 5ms/step - accuracy: 0.1581 - loss: 1.9462 - val_accuracy: 0.1064 - val_loss: 1.9619\n",
      "Epoch 29/50\n",
      "\u001b[1m27/27\u001b[0m \u001b[32m━━━━━━━━━━━━━━━━━━━━\u001b[0m\u001b[37m\u001b[0m \u001b[1m0s\u001b[0m 5ms/step - accuracy: 0.1404 - loss: 1.9478 - val_accuracy: 0.0851 - val_loss: 1.9622\n",
      "Epoch 30/50\n",
      "\u001b[1m27/27\u001b[0m \u001b[32m━━━━━━━━━━━━━━━━━━━━\u001b[0m\u001b[37m\u001b[0m \u001b[1m0s\u001b[0m 5ms/step - accuracy: 0.1307 - loss: 1.9473 - val_accuracy: 0.1064 - val_loss: 1.9565\n",
      "Epoch 31/50\n",
      "\u001b[1m27/27\u001b[0m \u001b[32m━━━━━━━━━━━━━━━━━━━━\u001b[0m\u001b[37m\u001b[0m \u001b[1m0s\u001b[0m 5ms/step - accuracy: 0.1653 - loss: 1.9467 - val_accuracy: 0.0851 - val_loss: 1.9535\n",
      "Epoch 32/50\n",
      "\u001b[1m27/27\u001b[0m \u001b[32m━━━━━━━━━━━━━━━━━━━━\u001b[0m\u001b[37m\u001b[0m \u001b[1m0s\u001b[0m 5ms/step - accuracy: 0.1605 - loss: 1.9439 - val_accuracy: 0.0851 - val_loss: 1.9566\n",
      "Epoch 33/50\n",
      "\u001b[1m27/27\u001b[0m \u001b[32m━━━━━━━━━━━━━━━━━━━━\u001b[0m\u001b[37m\u001b[0m \u001b[1m0s\u001b[0m 5ms/step - accuracy: 0.1682 - loss: 1.9424 - val_accuracy: 0.0851 - val_loss: 1.9563\n",
      "Epoch 34/50\n",
      "\u001b[1m27/27\u001b[0m \u001b[32m━━━━━━━━━━━━━━━━━━━━\u001b[0m\u001b[37m\u001b[0m \u001b[1m0s\u001b[0m 5ms/step - accuracy: 0.1518 - loss: 1.9452 - val_accuracy: 0.0851 - val_loss: 1.9594\n",
      "Epoch 35/50\n",
      "\u001b[1m27/27\u001b[0m \u001b[32m━━━━━━━━━━━━━━━━━━━━\u001b[0m\u001b[37m\u001b[0m \u001b[1m0s\u001b[0m 5ms/step - accuracy: 0.1331 - loss: 1.9439 - val_accuracy: 0.0851 - val_loss: 1.9619\n",
      "Epoch 36/50\n",
      "\u001b[1m27/27\u001b[0m \u001b[32m━━━━━━━━━━━━━━━━━━━━\u001b[0m\u001b[37m\u001b[0m \u001b[1m0s\u001b[0m 5ms/step - accuracy: 0.1723 - loss: 1.9409 - val_accuracy: 0.0851 - val_loss: 1.9608\n",
      "Epoch 37/50\n",
      "\u001b[1m27/27\u001b[0m \u001b[32m━━━━━━━━━━━━━━━━━━━━\u001b[0m\u001b[37m\u001b[0m \u001b[1m0s\u001b[0m 5ms/step - accuracy: 0.1517 - loss: 1.9453 - val_accuracy: 0.0851 - val_loss: 1.9673\n",
      "Epoch 38/50\n",
      "\u001b[1m27/27\u001b[0m \u001b[32m━━━━━━━━━━━━━━━━━━━━\u001b[0m\u001b[37m\u001b[0m \u001b[1m0s\u001b[0m 5ms/step - accuracy: 0.1599 - loss: 1.9492 - val_accuracy: 0.0851 - val_loss: 1.9578\n",
      "Epoch 39/50\n",
      "\u001b[1m27/27\u001b[0m \u001b[32m━━━━━━━━━━━━━━━━━━━━\u001b[0m\u001b[37m\u001b[0m \u001b[1m0s\u001b[0m 5ms/step - accuracy: 0.1599 - loss: 1.9434 - val_accuracy: 0.0851 - val_loss: 1.9620\n",
      "Epoch 40/50\n",
      "\u001b[1m27/27\u001b[0m \u001b[32m━━━━━━━━━━━━━━━━━━━━\u001b[0m\u001b[37m\u001b[0m \u001b[1m0s\u001b[0m 5ms/step - accuracy: 0.1588 - loss: 1.9425 - val_accuracy: 0.0851 - val_loss: 1.9618\n",
      "Epoch 41/50\n",
      "\u001b[1m27/27\u001b[0m \u001b[32m━━━━━━━━━━━━━━━━━━━━\u001b[0m\u001b[37m\u001b[0m \u001b[1m0s\u001b[0m 5ms/step - accuracy: 0.1742 - loss: 1.9448 - val_accuracy: 0.0851 - val_loss: 1.9558\n",
      "Epoch 42/50\n",
      "\u001b[1m27/27\u001b[0m \u001b[32m━━━━━━━━━━━━━━━━━━━━\u001b[0m\u001b[37m\u001b[0m \u001b[1m0s\u001b[0m 5ms/step - accuracy: 0.1219 - loss: 1.9455 - val_accuracy: 0.0851 - val_loss: 1.9550\n",
      "Epoch 43/50\n",
      "\u001b[1m27/27\u001b[0m \u001b[32m━━━━━━━━━━━━━━━━━━━━\u001b[0m\u001b[37m\u001b[0m \u001b[1m0s\u001b[0m 5ms/step - accuracy: 0.1399 - loss: 1.9457 - val_accuracy: 0.0851 - val_loss: 1.9568\n",
      "Epoch 44/50\n",
      "\u001b[1m27/27\u001b[0m \u001b[32m━━━━━━━━━━━━━━━━━━━━\u001b[0m\u001b[37m\u001b[0m \u001b[1m0s\u001b[0m 5ms/step - accuracy: 0.1312 - loss: 1.9513 - val_accuracy: 0.0851 - val_loss: 1.9574\n",
      "Epoch 45/50\n",
      "\u001b[1m27/27\u001b[0m \u001b[32m━━━━━━━━━━━━━━━━━━━━\u001b[0m\u001b[37m\u001b[0m \u001b[1m0s\u001b[0m 5ms/step - accuracy: 0.1819 - loss: 1.9392 - val_accuracy: 0.0851 - val_loss: 1.9667\n",
      "Epoch 46/50\n",
      "\u001b[1m27/27\u001b[0m \u001b[32m━━━━━━━━━━━━━━━━━━━━\u001b[0m\u001b[37m\u001b[0m \u001b[1m0s\u001b[0m 5ms/step - accuracy: 0.1229 - loss: 1.9595 - val_accuracy: 0.1277 - val_loss: 1.9715\n",
      "Epoch 47/50\n",
      "\u001b[1m27/27\u001b[0m \u001b[32m━━━━━━━━━━━━━━━━━━━━\u001b[0m\u001b[37m\u001b[0m \u001b[1m0s\u001b[0m 5ms/step - accuracy: 0.1467 - loss: 1.9440 - val_accuracy: 0.1489 - val_loss: 1.9657\n",
      "Epoch 48/50\n",
      "\u001b[1m27/27\u001b[0m \u001b[32m━━━━━━━━━━━━━━━━━━━━\u001b[0m\u001b[37m\u001b[0m \u001b[1m0s\u001b[0m 5ms/step - accuracy: 0.1463 - loss: 1.9465 - val_accuracy: 0.1277 - val_loss: 1.9628\n",
      "Epoch 49/50\n",
      "\u001b[1m27/27\u001b[0m \u001b[32m━━━━━━━━━━━━━━━━━━━━\u001b[0m\u001b[37m\u001b[0m \u001b[1m0s\u001b[0m 5ms/step - accuracy: 0.1538 - loss: 1.9472 - val_accuracy: 0.1489 - val_loss: 1.9614\n",
      "Epoch 50/50\n",
      "\u001b[1m27/27\u001b[0m \u001b[32m━━━━━━━━━━━━━━━━━━━━\u001b[0m\u001b[37m\u001b[0m \u001b[1m0s\u001b[0m 5ms/step - accuracy: 0.1416 - loss: 1.9436 - val_accuracy: 0.1064 - val_loss: 1.9570\n"
     ]
    }
   ],
   "source": [
    "# Train the model\n",
    "history = model.fit(\n",
    "    X_train, y_train,\n",
    "    epochs=50,\n",
    "    batch_size=16,\n",
    "    validation_split=0.1,  # Use 10% of training set for validation\n",
    "    verbose=1\n",
    ")"
   ]
  },
  {
   "cell_type": "code",
   "execution_count": 52,
   "metadata": {},
   "outputs": [
    {
     "name": "stdout",
     "output_type": "stream",
     "text": [
      "\u001b[1m4/4\u001b[0m \u001b[32m━━━━━━━━━━━━━━━━━━━━\u001b[0m\u001b[37m\u001b[0m \u001b[1m0s\u001b[0m 3ms/step - accuracy: 0.0688 - loss: 1.9609 \n",
      "✅ Test Accuracy: 10.17%\n",
      "📉 Test Loss: 1.9585\n"
     ]
    }
   ],
   "source": [
    "# Evaluate the model on the test set\n",
    "test_loss, test_accuracy = model.evaluate(X_test, y_test, verbose=1)\n",
    "\n",
    "print(f\"✅ Test Accuracy: {test_accuracy * 100:.2f}%\")\n",
    "print(f\"📉 Test Loss: {test_loss:.4f}\")\n"
   ]
  },
  {
   "cell_type": "code",
   "execution_count": 53,
   "metadata": {},
   "outputs": [
    {
     "name": "stdout",
     "output_type": "stream",
     "text": [
      "✅ Final Training Accuracy: 15.37%\n",
      "📉 Final Training Loss: 1.9455\n"
     ]
    }
   ],
   "source": [
    "# After training\n",
    "final_train_acc = history.history['accuracy'][-1]\n",
    "final_train_loss = history.history['loss'][-1]\n",
    "\n",
    "print(f\"✅ Final Training Accuracy: {final_train_acc * 100:.2f}%\")\n",
    "print(f\"📉 Final Training Loss: {final_train_loss:.4f}\")\n"
   ]
  },
  {
   "cell_type": "code",
   "execution_count": null,
   "metadata": {},
   "outputs": [],
   "source": []
  }
 ],
 "metadata": {
  "colab": {
   "provenance": []
  },
  "kernelspec": {
   "display_name": "Python 3 (ipykernel)",
   "language": "python",
   "name": "python3"
  },
  "language_info": {
   "codemirror_mode": {
    "name": "ipython",
    "version": 3
   },
   "file_extension": ".py",
   "mimetype": "text/x-python",
   "name": "python",
   "nbconvert_exporter": "python",
   "pygments_lexer": "ipython3",
   "version": "3.11.5"
  },
  "vscode": {
   "interpreter": {
    "hash": "343b5382bbdef6323a5190ffd58d8abbc50faa61deb0ede2b392deb1e68e29b3"
   }
  }
 },
 "nbformat": 4,
 "nbformat_minor": 1
}
