{
 "cells": [
  {
   "cell_type": "code",
   "execution_count": 1,
   "metadata": {},
   "outputs": [],
   "source": [
    "import scipy.io\n",
    "import numpy as np\n",
    "\n",
    "from sklearn.model_selection import train_test_split\n",
    "\n",
    "import torch \n",
    "import torch.nn as nn\n",
    "import torch.nn.functional as F\n",
    "\n",
    "from torch.utils.data import Dataset, DataLoader\n",
    "import torch.optim as optim"
   ]
  },
  {
   "cell_type": "code",
   "execution_count": 2,
   "metadata": {},
   "outputs": [
    {
     "name": "stdout",
     "output_type": "stream",
     "text": [
      "(1500, 24)\n",
      "X shape: (196, 1500, 24)\n",
      "y shape: (196,)\n"
     ]
    }
   ],
   "source": [
    "# Load the .mat file\n",
    "mat_file = scipy.io.loadmat('/Users/chrisdollo/Documents/coding_projects/EMG/Data/resized for 1500/processed_gestures_subject3.mat')\n",
    "cell_array = mat_file['processed_data']\n",
    "\n",
    "X = []\n",
    "Y = []\n",
    "\n",
    "for gesture_type in range(cell_array.shape[1]):\n",
    "    for row_idx in range(cell_array.shape[0]):\n",
    "\n",
    "        cell = cell_array[row_idx, gesture_type]\n",
    "\n",
    "        # Convert to numpy array explicitly and ensure shape (24, 18)\n",
    "        cell = np.array(cell)\n",
    "\n",
    "        if(gesture_type == 0 and row_idx == 0):\n",
    "            print(cell.shape)\n",
    "        # if cell.shape != (24, 18):\n",
    "        #     raise ValueError(f\"Unexpected shape: {cell.shape} at row {row_idx}, gesture {gesture_type}\")\n",
    "\n",
    "        # Add a new axis for channel (CNN expects 4D input: samples, height, width, channels)\n",
    "        X.append(cell.astype(np.float32))\n",
    "\n",
    "        # we add 1 to the label so that they range from 1-7 insteat of 0-6\n",
    "        Y.append(gesture_type + 1)\n",
    "\n",
    "# Convert list to NumPy arrays\n",
    "# X = np.array(X, dtype=np.float32)  # shape: (samples, 24, 18)\n",
    "# X = X[..., np.newaxis]             # shape: (samples, 24, 18, 1)\n",
    "# Y = np.array(Y, dtype=np.int32)\n",
    "\n",
    "X = np.array(X)\n",
    "Y = np.array(Y)\n",
    "\n",
    "# # # Train/test split\n",
    "# # X_train, X_test, y_train, y_test = train_test_split(\n",
    "# #     X, Y, test_size=0.2, stratify=Y, random_state=42\n",
    "# # )\n",
    "\n",
    "print(\"X shape:\", X.shape)\n",
    "print(\"y shape:\", Y.shape)"
   ]
  },
  {
   "attachments": {},
   "cell_type": "markdown",
   "metadata": {},
   "source": [
    "Let's build the model.\n",
    "\n",
    "For this task we will be using a Convolutional Neural Network"
   ]
  },
  {
   "cell_type": "code",
   "execution_count": 3,
   "metadata": {},
   "outputs": [],
   "source": [
    "class EEGNet(nn.Module):\n",
    "    def __init__(self, num_classes=4, num_channels=22, input_samples=1125, dropout_rate=0.5, kernel_length=64, F1=8, D=2, F2=16):\n",
    "        super(EEGNet, self).__init__()\n",
    "        \n",
    "        self.num_classes = 4\n",
    "        \n",
    "        self.firstConv = nn.Sequential(\n",
    "            nn.Conv2d(1, F1, kernel_size=(1,kernel_length), padding=(0, kernel_length//2), bias=False), \n",
    "            nn.BatchNorm2d(F1)\n",
    "        )\n",
    "        \n",
    "        self.depthwiseConv = nn.Sequential(\n",
    "            nn.Conv2d(F1, F1*D, kernel_size=(num_channels, 1), groups=F1, bias=False),\n",
    "            nn.BatchNorm2d(F1*D),\n",
    "            nn.ELU(),\n",
    "            nn.AvgPool2d(kernel_size=(1,4)),\n",
    "            nn.Dropout(p=dropout_rate)\n",
    "        )\n",
    "        \n",
    "        self.separableConv = nn.Sequential(\n",
    "            nn.Conv2d(F1*D, F2, kernel_size=(1,16), padding=(0,8), bias=False),\n",
    "            nn.BatchNorm2d(F2),\n",
    "            nn.ELU(),\n",
    "            nn.AvgPool2d(kernel_size=(1,8)),\n",
    "            nn.Dropout(p=dropout_rate)\n",
    "        )\n",
    "        \n",
    "        with torch.no_grad():\n",
    "            dummy = torch.zeros(1, 1, num_channels, input_samples)\n",
    "            x = self.firstConv(dummy)\n",
    "            x = self.depthwiseConv(x)\n",
    "            x = self.separableConv(x)\n",
    "            flattened = x.shape[1] * x.shape[2] * x.shape[3]\n",
    "        \n",
    "\n",
    "        self.classify = nn.Sequential(\n",
    "            nn.Flatten(),\n",
    "            nn.Linear(736, num_classes)\n",
    "        )\n",
    "        \n",
    "    def forward(self, x):\n",
    "        x = self.firstConv(x)\n",
    "        x = self.depthwiseConv(x)\n",
    "        x = self.separableConv(x)\n",
    "        x = self.classify(x)\n",
    "        return x"
   ]
  },
  {
   "attachments": {},
   "cell_type": "markdown",
   "metadata": {},
   "source": [
    "Dimension \n",
    " X_train: (230, 1, 22, 1000) \t y_train: (230,) \n",
    " X_test: (58, 1, 22, 1000) \t y_test: (58,)\n",
    "\n",
    " The model takes in the input dimensions as (trials, 1, channels, samples). Please keep it in these dimenions to make it work"
   ]
  },
  {
   "cell_type": "code",
   "execution_count": 4,
   "metadata": {},
   "outputs": [],
   "source": [
    "# DataLoader\n",
    "\n",
    "class BCIDataset(Dataset):\n",
    "    def __init__(self, X, y):\n",
    "        print(\"crashes here\")\n",
    "        self.X = torch.from_numpy(X)\n",
    "        print(\"crashes here\")\n",
    "        self.y = torch.from_numpy(y-1)\n",
    "        \n",
    "    def __len__(self):\n",
    "        return len(self.X)\n",
    "    \n",
    "    def __getitem__(self, idx):\n",
    "        return self.X[idx], self.y[idx]\n",
    "    \n",
    "\n",
    "# class BCIDataset(Dataset):\n",
    "#     def __init__(self, X, y):\n",
    "#         self.X = X  # Keep as NumPy array\n",
    "#         self.y = y - 1  # Apply label adjustment, if necessary\n",
    "\n",
    "#     def __len__(self):\n",
    "#         return len(self.X)\n",
    "\n",
    "#     def __getitem__(self, idx):\n",
    "#         x_tensor = torch.tensor(self.X[idx], dtype=torch.float32)\n",
    "#         y_tensor = torch.tensor(self.y[idx], dtype=torch.long)\n",
    "#         return x_tensor, y_tensor"
   ]
  },
  {
   "cell_type": "code",
   "execution_count": 5,
   "metadata": {},
   "outputs": [],
   "source": [
    "# Train and evaluate\n",
    "def train(model, train_loader, criterion, optimizer, device):\n",
    "    model.train()\n",
    "    total_loss = 0\n",
    "    \n",
    "    for X,y in train_loader:\n",
    "        X, y = X.to(device), y.to(device)\n",
    "        optimizer.zero_grad()\n",
    "        out = model(X)\n",
    "        loss = criterion(out, y)\n",
    "        loss.backward()\n",
    "        optimizer.step()\n",
    "        total_loss += loss.item()\n",
    "    return total_loss / len(train_loader)\n",
    " \n",
    "def evaluate(model, test_loader, device):\n",
    "    model.eval()\n",
    "    correct, total = 0, 0\n",
    "    with torch.no_grad():\n",
    "        for X, y in test_loader:\n",
    "            X,y = X.to(device), y.to(device)\n",
    "            out = model(X)\n",
    "            pred = out.argmax(dim=1)\n",
    "            correct += (pred == y).sum().item()\n",
    "            total += y.size(0)\n",
    "            \n",
    "    return correct / total"
   ]
  },
  {
   "cell_type": "code",
   "execution_count": 6,
   "metadata": {},
   "outputs": [],
   "source": [
    "X = X[:, np.newaxis, :, :]      # we reshape the seize of ther input to fit the model \n",
    "Y = Y - 1                       # we substract 1 from the labels \n",
    "\n",
    "X = np.transpose(X, (0, 1, 3, 2))\n",
    "Y= Y.squeeze()\n",
    "\n",
    "X_train, X_val, y_train, y_val = train_test_split(\n",
    "    X, Y, test_size=0.2, stratify=Y, random_state=42\n",
    ")"
   ]
  },
  {
   "cell_type": "code",
   "execution_count": 7,
   "metadata": {},
   "outputs": [
    {
     "name": "stdout",
     "output_type": "stream",
     "text": [
      "crashes here\n",
      "crashes here\n",
      "crashes here\n",
      "crashes here\n"
     ]
    }
   ],
   "source": [
    "train_ds = BCIDataset(X_train, y_train)\n",
    "\n",
    "val_ds = BCIDataset(X_val, y_val)\n",
    "\n",
    "train_loader = DataLoader(train_ds, batch_size=16, shuffle=True)\n",
    "val_loader = DataLoader(val_ds, batch_size=16, shuffle=False)"
   ]
  },
  {
   "cell_type": "code",
   "execution_count": 8,
   "metadata": {},
   "outputs": [
    {
     "name": "stdout",
     "output_type": "stream",
     "text": [
      "Using device: cpu\n"
     ]
    }
   ],
   "source": [
    "device = torch.device('cuda' if torch.cuda.is_available() else 'cpu')\n",
    "print(\"Using device:\", device)"
   ]
  },
  {
   "cell_type": "code",
   "execution_count": 9,
   "metadata": {},
   "outputs": [],
   "source": [
    "model = EEGNet(num_classes=7, num_channels=24, input_samples=1500) # Modify these parameters\n"
   ]
  },
  {
   "cell_type": "code",
   "execution_count": 10,
   "metadata": {},
   "outputs": [],
   "source": [
    "model = model.to(device)\n",
    "optimizer = optim.Adam(model.parameters(), lr=0.001)\n",
    "criterion = nn.CrossEntropyLoss()"
   ]
  },
  {
   "cell_type": "markdown",
   "metadata": {},
   "source": []
  },
  {
   "cell_type": "code",
   "execution_count": 11,
   "metadata": {},
   "outputs": [
    {
     "ename": "",
     "evalue": "",
     "output_type": "error",
     "traceback": [
      "\u001b[1;31mThe Kernel crashed while executing code in the the current cell or a previous cell. Please review the code in the cell(s) to identify a possible cause of the failure. Click <a href='https://aka.ms/vscodeJupyterKernelCrash'>here</a> for more info. View Jupyter <a href='command:jupyter.viewOutput'>log</a> for further details."
     ]
    },
    {
     "ename": "",
     "evalue": "",
     "output_type": "error",
     "traceback": [
      "\u001b[1;31mCanceled future for execute_request message before replies were done"
     ]
    }
   ],
   "source": [
    "# mx_acc = 0\n",
    "for epoch in range(50):\n",
    "    loss = train(model, train_loader, criterion, optimizer, device)\n",
    "    # acc = evaluate(model, val_loader, device)\n",
    "    # if acc > mx_acc:\n",
    "    #     mx_acc = acc\n",
    "    print(f\"Epoch {epoch}: Loss= {loss:.4f}, Accuracy: {acc*100:.2f}%, Max Acc: {mx_acc*100:.2f}\")"
   ]
  },
  {
   "cell_type": "code",
   "execution_count": null,
   "metadata": {},
   "outputs": [],
   "source": []
  }
 ],
 "metadata": {
  "colab": {
   "provenance": []
  },
  "kernelspec": {
   "display_name": "base",
   "language": "python",
   "name": "python3"
  },
  "language_info": {
   "codemirror_mode": {
    "name": "ipython",
    "version": 3
   },
   "file_extension": ".py",
   "mimetype": "text/x-python",
   "name": "python",
   "nbconvert_exporter": "python",
   "pygments_lexer": "ipython3",
   "version": "3.11.5 (main, Sep 11 2023, 08:31:25) [Clang 14.0.6 ]"
  },
  "vscode": {
   "interpreter": {
    "hash": "fe50d63974df50d14597ca6e20df72aedc533c021a02b773358909844a0e40be"
   }
  }
 },
 "nbformat": 4,
 "nbformat_minor": 0
}
